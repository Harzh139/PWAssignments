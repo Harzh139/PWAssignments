{
  "nbformat": 4,
  "nbformat_minor": 0,
  "metadata": {
    "colab": {
      "provenance": []
    },
    "kernelspec": {
      "name": "python3",
      "display_name": "Python 3"
    },
    "language_info": {
      "name": "python"
    }
  },
  "cells": [
    {
      "cell_type": "markdown",
      "source": [
        "# **Data Types and Structures Questionst**"
      ],
      "metadata": {
        "id": "bb4sL-PYVM4m"
      }
    },
    {
      "cell_type": "markdown",
      "source": [
        "1. What are data structures, and why are they important?"
      ],
      "metadata": {
        "id": "rFrJnyLIVUzn"
      }
    },
    {
      "cell_type": "markdown",
      "source": [
        "Data structures are ways to store and organize data efficiently. They are important because they help in managing and processing data efficiently, improving performance in searching, sorting, and modifying data."
      ],
      "metadata": {
        "id": "ndvao_gGVdJc"
      }
    },
    {
      "cell_type": "markdown",
      "source": [
        "2. Explain the difference between mutable and immutable data types with examples."
      ],
      "metadata": {
        "id": "rU2JTqMkVfdz"
      }
    },
    {
      "cell_type": "markdown",
      "source": [
        "Mutable data types can be changed after creation. Examples: list, dict, set.\n",
        "Immutable data types cannot be changed after creation. Examples: tuple, str, int, float."
      ],
      "metadata": {
        "id": "tNSEte6wViAJ"
      }
    },
    {
      "cell_type": "markdown",
      "source": [
        "3. What are the main differences between lists and tuples in Python?"
      ],
      "metadata": {
        "id": "4KPp1-ZYVmE3"
      }
    },
    {
      "cell_type": "markdown",
      "source": [
        "Lists are mutable, tuples are immutable.\n",
        "Lists use more memory, tuples are more memory efficient.\n",
        "Tuples are faster than lists when accessing elements.\n",
        "Lists allow modifications, tuples ensure data integrity."
      ],
      "metadata": {
        "id": "DpVdJwXEVo6v"
      }
    },
    {
      "cell_type": "markdown",
      "source": [
        "4.  Describe how dictionaries store data."
      ],
      "metadata": {
        "id": "u6MACKzzVq8R"
      }
    },
    {
      "cell_type": "markdown",
      "source": [
        "Dictionaries store data in key-value pairs.\n",
        "Internally, they use hash tables for fast lookups."
      ],
      "metadata": {
        "id": "UQcGkf77VtQ9"
      }
    },
    {
      "cell_type": "markdown",
      "source": [
        "5. Why might you use a set instead of a list in Python?"
      ],
      "metadata": {
        "id": "s4BtPd85Vwxh"
      }
    },
    {
      "cell_type": "markdown",
      "source": [
        "Sets do not allow duplicate values.\n",
        "Sets have faster lookup times compared to lists (O(1) vs. O(n))."
      ],
      "metadata": {
        "id": "XQ9a8_PSV0RN"
      }
    },
    {
      "cell_type": "markdown",
      "source": [
        "6.  What is a string in Python, and how is it different from a list?"
      ],
      "metadata": {
        "id": "3B8oxFBSV4Vb"
      }
    },
    {
      "cell_type": "markdown",
      "source": [
        "A string is a sequence of characters.\n",
        "Strings are immutable, while lists are mutable."
      ],
      "metadata": {
        "id": "yNJxdNytV6mn"
      }
    },
    {
      "cell_type": "markdown",
      "source": [
        "7. How do tuples ensure data integrity in Python?"
      ],
      "metadata": {
        "id": "R-6TX0wDV8ZJ"
      }
    },
    {
      "cell_type": "markdown",
      "source": [
        "Since tuples are immutable, they prevent accidental modification of data.\n",
        "Useful in scenarios where data should remain constant (e.g., database records)."
      ],
      "metadata": {
        "id": "Nf-_CXhdV_KZ"
      }
    },
    {
      "cell_type": "markdown",
      "source": [
        "8.  What is a hash table, and how does it relate to dictionaries in Python?"
      ],
      "metadata": {
        "id": "rofkiEUrWA-z"
      }
    },
    {
      "cell_type": "markdown",
      "source": [
        "A hash table is a data structure that maps keys to values using a hash function.\n",
        "Python dictionaries use hash tables for fast lookups (O(1) time complexity)."
      ],
      "metadata": {
        "id": "B-2p9y6NWDXf"
      }
    },
    {
      "cell_type": "markdown",
      "source": [
        "9. Can lists contain different data types in Python?"
      ],
      "metadata": {
        "id": "MyEpzNRwWFOJ"
      }
    },
    {
      "cell_type": "markdown",
      "source": [
        "Yes, lists can store multiple data types."
      ],
      "metadata": {
        "id": "OaTpGwfCWKLN"
      }
    },
    {
      "cell_type": "markdown",
      "source": [
        "10. Explain why strings are immutable in Python."
      ],
      "metadata": {
        "id": "dHx41lCIWL3N"
      }
    },
    {
      "cell_type": "markdown",
      "source": [
        "Strings are immutable to improve performance and security.\n",
        "Since they are frequently used, immutability allows Python to optimize memory usage."
      ],
      "metadata": {
        "id": "NzpQkYAPWQtp"
      }
    },
    {
      "cell_type": "markdown",
      "source": [
        "11.  What advantages do dictionaries offer over lists for certain tasks?"
      ],
      "metadata": {
        "id": "_iKWrF28WSrz"
      }
    },
    {
      "cell_type": "markdown",
      "source": [
        "Faster lookups (O(1) vs. O(n) for lists).\n",
        "Key-value structure is useful for mapping relationships."
      ],
      "metadata": {
        "id": "PW3jgDLdWVDR"
      }
    },
    {
      "cell_type": "markdown",
      "source": [
        "12. Describe a scenario where using a tuple would be preferable over a list."
      ],
      "metadata": {
        "id": "00LqnSkuWW4r"
      }
    },
    {
      "cell_type": "markdown",
      "source": [
        "When storing fixed data like coordinates (x, y), dates (year, month, day), or database records."
      ],
      "metadata": {
        "id": "kxSibF3yWbqd"
      }
    },
    {
      "cell_type": "markdown",
      "source": [
        "13. How do sets handle duplicate values in Python?"
      ],
      "metadata": {
        "id": "cPoHqAMLWdov"
      }
    },
    {
      "cell_type": "markdown",
      "source": [
        "Sets automatically remove duplicates."
      ],
      "metadata": {
        "id": "npm_sccWWho9"
      }
    },
    {
      "cell_type": "markdown",
      "source": [
        "14. How does the “in” keyword work differently for lists and dictionaries?"
      ],
      "metadata": {
        "id": "C9eiGS_CWnZm"
      }
    },
    {
      "cell_type": "markdown",
      "source": [
        "In lists, it checks if a value is present (O(n)).\n",
        "In dictionaries, it checks for keys (O(1))."
      ],
      "metadata": {
        "id": "BAxhVKO_Wp7b"
      }
    },
    {
      "cell_type": "markdown",
      "source": [
        "15. Can you modify the elements of a tuple? Explain why or why not."
      ],
      "metadata": {
        "id": "esF-jTGDWr6e"
      }
    },
    {
      "cell_type": "markdown",
      "source": [
        "No, tuples are immutable.\n",
        "You cannot change, add, or remove elements after creation."
      ],
      "metadata": {
        "id": "4t0EEB_TWxeW"
      }
    },
    {
      "cell_type": "markdown",
      "source": [
        "16. What is a nested dictionary, and give an example of its use case?"
      ],
      "metadata": {
        "id": "soQFi_OkWzYY"
      }
    },
    {
      "cell_type": "markdown",
      "source": [
        "A dictionary inside another dictionary."
      ],
      "metadata": {
        "id": "ksRrbnhcW2RA"
      }
    },
    {
      "cell_type": "markdown",
      "source": [
        "17. Describe the time complexity of accessing elements in a dictionary."
      ],
      "metadata": {
        "id": "0ZQoO9dUW4XL"
      }
    },
    {
      "cell_type": "markdown",
      "source": [
        "O(1) (constant time) for key-based lookups, due to hash tables."
      ],
      "metadata": {
        "id": "t87UQsFPW7y1"
      }
    },
    {
      "cell_type": "markdown",
      "source": [
        "18. In what situations are lists preferred over dictionaries?"
      ],
      "metadata": {
        "id": "LZyXEsxfW-sl"
      }
    },
    {
      "cell_type": "markdown",
      "source": [
        "When order matters (lists maintain order, dictionaries before Python 3.7 did not).\n",
        "When data has no key-value relationship (e.g., sequential storage)."
      ],
      "metadata": {
        "id": "3SE8hWBbXB3x"
      }
    },
    {
      "cell_type": "markdown",
      "source": [
        "19. Why are dictionaries considered unordered, and how does that affect data retrieval?"
      ],
      "metadata": {
        "id": "DbtoWzaSXD5a"
      }
    },
    {
      "cell_type": "markdown",
      "source": [
        "Before Python 3.7, dictionaries did not store elements in a fixed order.\n",
        "Now, they maintain insertion order, but retrieval is still key-based."
      ],
      "metadata": {
        "id": "JNLSpfcJXGTn"
      }
    },
    {
      "cell_type": "markdown",
      "source": [
        "20. Explain the difference between a list and a dictionary in terms of data retrieval."
      ],
      "metadata": {
        "id": "00ZAqRTQXIVx"
      }
    },
    {
      "cell_type": "markdown",
      "source": [
        "Lists retrieve data by index (O(1) for known index, O(n) for searches).\n",
        "Dictionaries retrieve data by key (O(1) lookup time).\n",
        "\n"
      ],
      "metadata": {
        "id": "DoOlW_a4XNgn"
      }
    },
    {
      "cell_type": "markdown",
      "source": [
        "# **Practical Questionst**"
      ],
      "metadata": {
        "id": "csTuFswgXR2f"
      }
    },
    {
      "cell_type": "markdown",
      "source": [
        "1. Write a code to create a string with your name and print it."
      ],
      "metadata": {
        "id": "OH7qVyJ5XTzJ"
      }
    },
    {
      "cell_type": "code",
      "source": [
        "Name = \"Harsh Sharma\"\n",
        "print(Name)"
      ],
      "metadata": {
        "colab": {
          "base_uri": "https://localhost:8080/"
        },
        "id": "sV33VFNkYYkL",
        "outputId": "348454b5-bad5-45ab-ab5e-e90df7f556ef"
      },
      "execution_count": 1,
      "outputs": [
        {
          "output_type": "stream",
          "name": "stdout",
          "text": [
            "Harsh Sharma\n"
          ]
        }
      ]
    },
    {
      "cell_type": "markdown",
      "source": [
        "2. Write a code to find the length of the string \"Hello World\"."
      ],
      "metadata": {
        "id": "xm0GaMXeYotb"
      }
    },
    {
      "cell_type": "code",
      "source": [
        "A = \"Hello World\"\n",
        "len(A)"
      ],
      "metadata": {
        "colab": {
          "base_uri": "https://localhost:8080/"
        },
        "id": "Wvtaip48YudF",
        "outputId": "dd8a8154-c664-49ca-fcb9-1fbfb0011c2b"
      },
      "execution_count": 3,
      "outputs": [
        {
          "output_type": "execute_result",
          "data": {
            "text/plain": [
              "11"
            ]
          },
          "metadata": {},
          "execution_count": 3
        }
      ]
    },
    {
      "cell_type": "markdown",
      "source": [
        "3.  Write a code to slice the first 3 characters from the string \"Python Programming\"."
      ],
      "metadata": {
        "id": "RpVu8hjWY6Jj"
      }
    },
    {
      "cell_type": "code",
      "source": [
        "A = \"Python Programming\"\n",
        "A[:3]"
      ],
      "metadata": {
        "colab": {
          "base_uri": "https://localhost:8080/",
          "height": 36
        },
        "id": "F7ooWiwGY7zC",
        "outputId": "c3935eea-e39a-4945-ec96-28f64a1e0655"
      },
      "execution_count": 5,
      "outputs": [
        {
          "output_type": "execute_result",
          "data": {
            "text/plain": [
              "'Pyt'"
            ],
            "application/vnd.google.colaboratory.intrinsic+json": {
              "type": "string"
            }
          },
          "metadata": {},
          "execution_count": 5
        }
      ]
    },
    {
      "cell_type": "markdown",
      "source": [
        "4. Write a code to convert the string \"hello\" to uppercase."
      ],
      "metadata": {
        "id": "MJAdR-MEZV87"
      }
    },
    {
      "cell_type": "code",
      "source": [
        "Upper_case = \"hello\"\n",
        "Upper_case.upper()"
      ],
      "metadata": {
        "colab": {
          "base_uri": "https://localhost:8080/",
          "height": 36
        },
        "id": "lib8Z08RZNiR",
        "outputId": "3d02cd79-b1b4-4bfe-a26f-0ace523301fe"
      },
      "execution_count": 8,
      "outputs": [
        {
          "output_type": "execute_result",
          "data": {
            "text/plain": [
              "'HELLO'"
            ],
            "application/vnd.google.colaboratory.intrinsic+json": {
              "type": "string"
            }
          },
          "metadata": {},
          "execution_count": 8
        }
      ]
    },
    {
      "cell_type": "markdown",
      "source": [
        "5. Write a code to replace the word \"apple\" with \"orange\" in the string \"I like apple\"."
      ],
      "metadata": {
        "id": "NMe5IXi2Z029"
      }
    },
    {
      "cell_type": "code",
      "source": [
        "replace_string = \"i like apple\"\n",
        "replace_string = replace_string.replace(\"apple\",\"orange\")\n",
        "print(replace_string)"
      ],
      "metadata": {
        "colab": {
          "base_uri": "https://localhost:8080/"
        },
        "id": "XEuxnXgZaA1I",
        "outputId": "d5e46b24-15f6-4fd9-e284-e2871c500e81"
      },
      "execution_count": 10,
      "outputs": [
        {
          "output_type": "stream",
          "name": "stdout",
          "text": [
            "i like orange\n"
          ]
        }
      ]
    },
    {
      "cell_type": "markdown",
      "source": [
        "6.  Write a code to create a list with numbers 1 to 5 and print it"
      ],
      "metadata": {
        "id": "3eu4xs_MacSN"
      }
    },
    {
      "cell_type": "code",
      "source": [
        "Num_list = list(range(1,6))\n",
        "print(Num_list)"
      ],
      "metadata": {
        "colab": {
          "base_uri": "https://localhost:8080/"
        },
        "id": "N7uDJbauaMpo",
        "outputId": "2717724f-b9e0-4f2c-9add-23c772befbd5"
      },
      "execution_count": 18,
      "outputs": [
        {
          "output_type": "stream",
          "name": "stdout",
          "text": [
            "[1, 2, 3, 4, 5]\n"
          ]
        }
      ]
    },
    {
      "cell_type": "markdown",
      "source": [
        "7. Write a code to append the number 10 to the list [1, 2, 3, 4].\n"
      ],
      "metadata": {
        "id": "XYWW4p_5bxA2"
      }
    },
    {
      "cell_type": "code",
      "source": [
        "append_list = list(range(1,5))\n",
        "print(append_list)\n",
        "append_list.append(10)\n",
        "print(append_list)"
      ],
      "metadata": {
        "colab": {
          "base_uri": "https://localhost:8080/"
        },
        "id": "Be8Xg2QFb2_D",
        "outputId": "90d5ba3a-1981-480b-9b42-370323aa3ef8"
      },
      "execution_count": 19,
      "outputs": [
        {
          "output_type": "stream",
          "name": "stdout",
          "text": [
            "[1, 2, 3, 4]\n",
            "[1, 2, 3, 4, 10]\n"
          ]
        }
      ]
    },
    {
      "cell_type": "markdown",
      "source": [
        "8.  Write a code to remove the number 3 from the list [1, 2, 3, 4, 5]"
      ],
      "metadata": {
        "id": "BX8qhKIqcEGa"
      }
    },
    {
      "cell_type": "code",
      "source": [
        "remove_list = list(range(1,6))\n",
        "print(remove_list)\n",
        "remove_list.pop(2)\n",
        "print(remove_list)"
      ],
      "metadata": {
        "colab": {
          "base_uri": "https://localhost:8080/"
        },
        "id": "7SYfWHPadpcS",
        "outputId": "edad1ba2-26a4-4e55-9d12-ae256bd1a69d"
      },
      "execution_count": 20,
      "outputs": [
        {
          "output_type": "stream",
          "name": "stdout",
          "text": [
            "[1, 2, 3, 4, 5]\n",
            "[1, 2, 4, 5]\n"
          ]
        }
      ]
    },
    {
      "cell_type": "markdown",
      "source": [
        "9. Write a code to access the second element in the list ['a', 'b', 'c', 'd']"
      ],
      "metadata": {
        "id": "tTBZcSFAeApk"
      }
    },
    {
      "cell_type": "code",
      "source": [
        "access_list = ['a','b','c','d']\n",
        "access_list[1]"
      ],
      "metadata": {
        "colab": {
          "base_uri": "https://localhost:8080/",
          "height": 36
        },
        "id": "IcJ53vsDd2LL",
        "outputId": "8076abdf-2079-4128-d832-7af062467d76"
      },
      "execution_count": 24,
      "outputs": [
        {
          "output_type": "execute_result",
          "data": {
            "text/plain": [
              "'b'"
            ],
            "application/vnd.google.colaboratory.intrinsic+json": {
              "type": "string"
            }
          },
          "metadata": {},
          "execution_count": 24
        }
      ]
    },
    {
      "cell_type": "markdown",
      "source": [
        "10. P Write a code to reverse the list [10, 20, 30, 40, 50]."
      ],
      "metadata": {
        "id": "g2uMazEBfc_o"
      }
    },
    {
      "cell_type": "code",
      "source": [
        "reverse_list = list(range(10,51,10))\n",
        "print(reverse_list)\n",
        "reverse_list[::-1]"
      ],
      "metadata": {
        "colab": {
          "base_uri": "https://localhost:8080/"
        },
        "id": "gfWpmqJMeZrz",
        "outputId": "bfee19f6-8bac-4715-c15d-d6a0c8d5a34a"
      },
      "execution_count": 26,
      "outputs": [
        {
          "output_type": "stream",
          "name": "stdout",
          "text": [
            "[10, 20, 30, 40, 50]\n"
          ]
        },
        {
          "output_type": "execute_result",
          "data": {
            "text/plain": [
              "[50, 40, 30, 20, 10]"
            ]
          },
          "metadata": {},
          "execution_count": 26
        }
      ]
    },
    {
      "cell_type": "markdown",
      "source": [
        "11. Write a code to create a tuple with the elements 100, 200, 300 and print it."
      ],
      "metadata": {
        "id": "XpzqhyGXf1E9"
      }
    },
    {
      "cell_type": "code",
      "source": [
        "Create_tuple = tuple(range(100,301,100))\n",
        "print(Create_tuple)\n"
      ],
      "metadata": {
        "colab": {
          "base_uri": "https://localhost:8080/"
        },
        "id": "x_1Q8RIBfuHc",
        "outputId": "f79ee874-f6b7-4eaf-bad0-10bd184d79ef"
      },
      "execution_count": 29,
      "outputs": [
        {
          "output_type": "stream",
          "name": "stdout",
          "text": [
            "(100, 200, 300)\n"
          ]
        }
      ]
    },
    {
      "cell_type": "markdown",
      "source": [
        "12.  Write a code to access the second-to-last element of the tuple ('red', 'green', 'blue', 'yellow')."
      ],
      "metadata": {
        "id": "lIIq92aBgTA2"
      }
    },
    {
      "cell_type": "code",
      "source": [
        "access_tuple = ('red','green','blue','yellow')\n",
        "access_tuple[-2]"
      ],
      "metadata": {
        "colab": {
          "base_uri": "https://localhost:8080/",
          "height": 36
        },
        "id": "qZ6wOzImgLTJ",
        "outputId": "e2eb3380-17c0-41ef-f3f4-e6b8b8c46ce3"
      },
      "execution_count": 30,
      "outputs": [
        {
          "output_type": "execute_result",
          "data": {
            "text/plain": [
              "'blue'"
            ],
            "application/vnd.google.colaboratory.intrinsic+json": {
              "type": "string"
            }
          },
          "metadata": {},
          "execution_count": 30
        }
      ]
    },
    {
      "cell_type": "markdown",
      "source": [
        "13. . Write a code to find the minimum number in the tuple (10, 20, 5, 15)"
      ],
      "metadata": {
        "id": "IRFwd6BrhCDZ"
      }
    },
    {
      "cell_type": "code",
      "source": [
        "Min_tuple = (10,20,5,15)\n",
        "min(Min_tuple)\n"
      ],
      "metadata": {
        "colab": {
          "base_uri": "https://localhost:8080/"
        },
        "id": "rEyBAmogg_xV",
        "outputId": "0f5495ee-97b4-4fcd-f906-96249be09740"
      },
      "execution_count": 31,
      "outputs": [
        {
          "output_type": "execute_result",
          "data": {
            "text/plain": [
              "5"
            ]
          },
          "metadata": {},
          "execution_count": 31
        }
      ]
    },
    {
      "cell_type": "markdown",
      "source": [
        "14. Write a code to find the index of the element \"cat\" in the tuple ('dog', 'cat', 'rabbit')."
      ],
      "metadata": {
        "id": "Ksh-UgTJhtIi"
      }
    },
    {
      "cell_type": "code",
      "source": [
        "animal = ('dog','cat','rabbit')\n",
        "animal.index('cat')"
      ],
      "metadata": {
        "colab": {
          "base_uri": "https://localhost:8080/"
        },
        "id": "GAYbakc5hrvP",
        "outputId": "7037c4d1-0302-428f-d3e0-27f9700261b0"
      },
      "execution_count": 32,
      "outputs": [
        {
          "output_type": "execute_result",
          "data": {
            "text/plain": [
              "1"
            ]
          },
          "metadata": {},
          "execution_count": 32
        }
      ]
    },
    {
      "cell_type": "markdown",
      "source": [
        "15.  Write a code to create a tuple containing three different fruits and check if \"kiwi\" is in it."
      ],
      "metadata": {
        "id": "IEtjbf4Fh_S1"
      }
    },
    {
      "cell_type": "code",
      "source": [
        "fruits = ('apple','banana','orange','kiwi')\n",
        "\"kiwi\" in fruits"
      ],
      "metadata": {
        "colab": {
          "base_uri": "https://localhost:8080/"
        },
        "id": "fPevwQt2h9N-",
        "outputId": "dcd5b50e-3073-451a-a243-78042815f41b"
      },
      "execution_count": 38,
      "outputs": [
        {
          "output_type": "execute_result",
          "data": {
            "text/plain": [
              "True"
            ]
          },
          "metadata": {},
          "execution_count": 38
        }
      ]
    },
    {
      "cell_type": "markdown",
      "source": [
        "16. Write a code to create a set with the elements 'a', 'b', 'c' and print it."
      ],
      "metadata": {
        "id": "YkUbTRlAjL-I"
      }
    },
    {
      "cell_type": "code",
      "source": [
        "alp = {'a','b','c'}\n",
        "alp"
      ],
      "metadata": {
        "colab": {
          "base_uri": "https://localhost:8080/"
        },
        "id": "W176hzXTiqEd",
        "outputId": "67d66c70-1ae1-44fe-8e07-7968988b719f"
      },
      "execution_count": 55,
      "outputs": [
        {
          "output_type": "execute_result",
          "data": {
            "text/plain": [
              "{'a', 'b', 'c'}"
            ]
          },
          "metadata": {},
          "execution_count": 55
        }
      ]
    },
    {
      "cell_type": "markdown",
      "source": [
        "17.  Write a code to clear all elements from the set {1, 2, 3, 4, 5}"
      ],
      "metadata": {
        "id": "o18YiSUWp8ri"
      }
    },
    {
      "cell_type": "code",
      "source": [
        "num = {1,2,3,4,5}\n",
        "print(num)\n",
        "num.clear()\n",
        "print(num)"
      ],
      "metadata": {
        "colab": {
          "base_uri": "https://localhost:8080/"
        },
        "id": "FhykcctEp_vg",
        "outputId": "ab0b111d-4c82-440b-b318-ecc3e6f2a373"
      },
      "execution_count": 44,
      "outputs": [
        {
          "output_type": "stream",
          "name": "stdout",
          "text": [
            "{1, 2, 3, 4, 5}\n",
            "set()\n"
          ]
        }
      ]
    },
    {
      "cell_type": "markdown",
      "source": [
        "18.  Write a code to remove the element 4 from the set {1, 2, 3, 4}"
      ],
      "metadata": {
        "id": "RrlqD2fgqQrv"
      }
    },
    {
      "cell_type": "code",
      "source": [
        "num1 = {1,2,3,4}\n",
        "print(num1)\n",
        "num1.remove(4)\n",
        "print(num1)"
      ],
      "metadata": {
        "colab": {
          "base_uri": "https://localhost:8080/"
        },
        "id": "zING4Sh9qKc8",
        "outputId": "e221df10-0e48-40f1-d2e9-7cbfabca3a2a"
      },
      "execution_count": 60,
      "outputs": [
        {
          "output_type": "stream",
          "name": "stdout",
          "text": [
            "{1, 2, 3, 4}\n",
            "{1, 2, 3}\n"
          ]
        }
      ]
    },
    {
      "cell_type": "markdown",
      "source": [
        " 19. Write a code to find the union of two sets {1, 2, 3} and {3, 4, 5}"
      ],
      "metadata": {
        "id": "ewhto6NhrQKM"
      }
    },
    {
      "cell_type": "code",
      "source": [
        "A = {1,2,3}\n",
        "B = {3,4,5}\n",
        "A | B"
      ],
      "metadata": {
        "colab": {
          "base_uri": "https://localhost:8080/"
        },
        "id": "sEcF9BlOqeHC",
        "outputId": "a51bbf9d-b833-4695-f036-0009b47c7640"
      },
      "execution_count": 61,
      "outputs": [
        {
          "output_type": "execute_result",
          "data": {
            "text/plain": [
              "{1, 2, 3, 4, 5}"
            ]
          },
          "metadata": {},
          "execution_count": 61
        }
      ]
    },
    {
      "cell_type": "markdown",
      "source": [
        "20.  Write a code to find the intersection of two sets {1, 2, 3} and {2, 3, 4}."
      ],
      "metadata": {
        "id": "fgtHhgF2ri-x"
      }
    },
    {
      "cell_type": "code",
      "source": [
        "A = {1,2,3}\n",
        "B = {2,3,4}\n",
        "A & B"
      ],
      "metadata": {
        "colab": {
          "base_uri": "https://localhost:8080/"
        },
        "id": "FkdkthjjrhRs",
        "outputId": "8dbaa0ab-2be0-4c23-de4c-276825711c3e"
      },
      "execution_count": 63,
      "outputs": [
        {
          "output_type": "execute_result",
          "data": {
            "text/plain": [
              "{2, 3}"
            ]
          },
          "metadata": {},
          "execution_count": 63
        }
      ]
    },
    {
      "cell_type": "markdown",
      "source": [
        "21.  Write a code to create a dictionary with the keys \"name\", \"age\", and \"city\", and print it."
      ],
      "metadata": {
        "id": "LTOT1URpsE2c"
      }
    },
    {
      "cell_type": "code",
      "source": [
        "Dict = {\"name\":\"harsh\",\"age\":22,\"city\":'gudgoan'}\n",
        "print(Dict)\n",
        "type(Dict)"
      ],
      "metadata": {
        "colab": {
          "base_uri": "https://localhost:8080/"
        },
        "id": "KRbnAV--r_9y",
        "outputId": "c50f151f-8f06-4d20-887c-5fecbb8e8d98"
      },
      "execution_count": 67,
      "outputs": [
        {
          "output_type": "stream",
          "name": "stdout",
          "text": [
            "{'name': 'harsh', 'age': 22, 'city': 'gudgoan'}\n"
          ]
        },
        {
          "output_type": "execute_result",
          "data": {
            "text/plain": [
              "dict"
            ]
          },
          "metadata": {},
          "execution_count": 67
        }
      ]
    },
    {
      "cell_type": "markdown",
      "source": [
        "22. Write a code to add a new key-value pair \"country\": \"USA\" to the dictionary {'name': 'John', 'age': 25}."
      ],
      "metadata": {
        "id": "kcHN324kspw4"
      }
    },
    {
      "cell_type": "code",
      "source": [
        "data =  {'name': 'John', 'age': 25}\n",
        "print(data)\n",
        "data[\"Country\"] = \"USA\"\n",
        "print(data)"
      ],
      "metadata": {
        "colab": {
          "base_uri": "https://localhost:8080/"
        },
        "id": "2zWC4FRWseWn",
        "outputId": "69d044b4-9b35-4a1c-bc86-6d0775c426e1"
      },
      "execution_count": 73,
      "outputs": [
        {
          "output_type": "stream",
          "name": "stdout",
          "text": [
            "{'name': 'John', 'age': 25}\n",
            "{'name': 'John', 'age': 25, 'Country': 'USA'}\n"
          ]
        }
      ]
    },
    {
      "cell_type": "markdown",
      "source": [
        "23. Write a code to access the value associated with the key \"name\" in the dictionary {'name': 'Alice', 'age': 30}."
      ],
      "metadata": {
        "id": "kj3U0j0ruCO2"
      }
    },
    {
      "cell_type": "code",
      "source": [
        "data1 =  {'name': 'Alice', 'age': 30}\n",
        "data1['name']"
      ],
      "metadata": {
        "colab": {
          "base_uri": "https://localhost:8080/",
          "height": 36
        },
        "id": "uEQuuKJmtaIB",
        "outputId": "7ffdd85e-1a58-4a3e-d510-41ee4cf5b48f"
      },
      "execution_count": 74,
      "outputs": [
        {
          "output_type": "execute_result",
          "data": {
            "text/plain": [
              "'Alice'"
            ],
            "application/vnd.google.colaboratory.intrinsic+json": {
              "type": "string"
            }
          },
          "metadata": {},
          "execution_count": 74
        }
      ]
    },
    {
      "cell_type": "markdown",
      "source": [
        "24. Write a code to remove the key \"age\" from the dictionary {'name': 'Bob', 'age': 22, 'city': 'New York'}"
      ],
      "metadata": {
        "id": "AR4R7MSjuakZ"
      }
    },
    {
      "cell_type": "code",
      "source": [
        "data2 =  {'name': 'Bob', 'age': 22, 'city': 'New York'}\n",
        "print(data2)\n",
        "data2.pop('city')\n",
        "print(data2)"
      ],
      "metadata": {
        "colab": {
          "base_uri": "https://localhost:8080/"
        },
        "id": "Mjt7lmgKuYpS",
        "outputId": "e2e354fd-871a-44fc-bc19-37da23e4d193"
      },
      "execution_count": 77,
      "outputs": [
        {
          "output_type": "stream",
          "name": "stdout",
          "text": [
            "{'name': 'Bob', 'age': 22, 'city': 'New York'}\n",
            "{'name': 'Bob', 'age': 22}\n"
          ]
        }
      ]
    },
    {
      "cell_type": "markdown",
      "source": [
        "25.  Write a code to check if the key \"city\" exists in the dictionary {'name': 'Alice', 'city': 'Paris'}."
      ],
      "metadata": {
        "id": "9njt0XkyviGz"
      }
    },
    {
      "cell_type": "code",
      "source": [
        "data3 = {'name': 'Alice', 'city': 'Paris'}\n",
        "\"city\" in data3"
      ],
      "metadata": {
        "colab": {
          "base_uri": "https://localhost:8080/"
        },
        "id": "tKh-uWhgvWp-",
        "outputId": "c3a04852-2575-4c56-c6a7-41517b6c9f0c"
      },
      "execution_count": 78,
      "outputs": [
        {
          "output_type": "execute_result",
          "data": {
            "text/plain": [
              "True"
            ]
          },
          "metadata": {},
          "execution_count": 78
        }
      ]
    },
    {
      "cell_type": "markdown",
      "source": [
        "26. Write a code to create a list, a tuple, and a dictionary, and print them all."
      ],
      "metadata": {
        "id": "EIT-uvl_v8kj"
      }
    },
    {
      "cell_type": "code",
      "source": [
        "list_data = [1, 2, 3]\n",
        "tuple_data = (4, 5, 6)\n",
        "dictionary_data = {\"a\": 1, \"b\": 2}\n",
        "print(list_data, tuple_data, dictionary_data)"
      ],
      "metadata": {
        "colab": {
          "base_uri": "https://localhost:8080/"
        },
        "id": "Z9iCOfVJv6UH",
        "outputId": "1bc344a6-7702-49a5-ff22-14366317a93e"
      },
      "execution_count": 79,
      "outputs": [
        {
          "output_type": "stream",
          "name": "stdout",
          "text": [
            "[1, 2, 3] (4, 5, 6) {'a': 1, 'b': 2}\n"
          ]
        }
      ]
    },
    {
      "cell_type": "markdown",
      "source": [
        "27.  Write a code to create a list of 5 random numbers between 1 and 100, sort it in ascending order, and print the\n",
        "result.(replaced)\n",
        "\n"
      ],
      "metadata": {
        "id": "1-D2NPyqwJO5"
      }
    },
    {
      "cell_type": "code",
      "source": [
        "import random\n",
        "random_number = sorted(random.sample(range(1, 101), 5))\n",
        "print(random_number)"
      ],
      "metadata": {
        "colab": {
          "base_uri": "https://localhost:8080/"
        },
        "id": "FGVDYVg0wUc6",
        "outputId": "90c2f7fe-1ace-4638-ea20-e8a60ece2bed"
      },
      "execution_count": 80,
      "outputs": [
        {
          "output_type": "stream",
          "name": "stdout",
          "text": [
            "[31, 40, 70, 76, 94]\n"
          ]
        }
      ]
    },
    {
      "cell_type": "markdown",
      "source": [
        "28. Write a code to create a list with strings and print the element at the third index."
      ],
      "metadata": {
        "id": "mEh7mJhlwkIV"
      }
    },
    {
      "cell_type": "code",
      "source": [
        "string_list = [\"apple\", \"banana\", \"cherry\", \"date\", \"elderberry\"]\n",
        "print(string_list[3])"
      ],
      "metadata": {
        "colab": {
          "base_uri": "https://localhost:8080/"
        },
        "id": "rbJfoCINwhOx",
        "outputId": "fbbcecaf-effc-4888-a2b9-8284fa299502"
      },
      "execution_count": 83,
      "outputs": [
        {
          "output_type": "stream",
          "name": "stdout",
          "text": [
            "date\n"
          ]
        }
      ]
    },
    {
      "cell_type": "markdown",
      "source": [
        "29.  Write a code to combine two dictionaries into one and print the result.\n",
        "\n"
      ],
      "metadata": {
        "id": "xU801lo3xHlY"
      }
    },
    {
      "cell_type": "code",
      "source": [
        "dict1 = {\"a\": 1, \"b\": 2}\n",
        "dict2 = {\"c\": 3, \"d\": 4}\n",
        "combined_dict = {**dict1, **dict2}\n",
        "print(combined_dict)"
      ],
      "metadata": {
        "colab": {
          "base_uri": "https://localhost:8080/"
        },
        "id": "E5ycEzmJw9CN",
        "outputId": "d3eb6f70-1e03-4538-f025-0d41c5a92eba"
      },
      "execution_count": 84,
      "outputs": [
        {
          "output_type": "stream",
          "name": "stdout",
          "text": [
            "{'a': 1, 'b': 2, 'c': 3, 'd': 4}\n"
          ]
        }
      ]
    },
    {
      "cell_type": "markdown",
      "source": [
        "30. Write a code to convert a list of strings into a set"
      ],
      "metadata": {
        "id": "joIoyrL9xQBP"
      }
    },
    {
      "cell_type": "code",
      "source": [
        "string_list = [\"apple\", \"banana\", \"cherry\", \"apple\"]\n",
        "string_set = set(string_list)\n",
        "print(string_set)\n"
      ],
      "metadata": {
        "colab": {
          "base_uri": "https://localhost:8080/"
        },
        "id": "urT31BNSxOp6",
        "outputId": "75409398-04a1-44e4-8f87-a1562e9ea720"
      },
      "execution_count": 85,
      "outputs": [
        {
          "output_type": "stream",
          "name": "stdout",
          "text": [
            "{'cherry', 'banana', 'apple'}\n"
          ]
        }
      ]
    },
    {
      "cell_type": "code",
      "source": [],
      "metadata": {
        "id": "Uq9xf3WyxY9T"
      },
      "execution_count": null,
      "outputs": []
    }
  ]
}