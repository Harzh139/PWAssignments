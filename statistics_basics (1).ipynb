{
  "cells": [
    {
      "cell_type": "markdown",
      "id": "9fcda0d1",
      "metadata": {
        "id": "9fcda0d1"
      },
      "source": [
        "\n",
        "# Statistics Basics\n",
        "\n",
        "## 1. What is statistics, and why is it important?\n",
        "Statistics is the branch of mathematics that involves collecting, organizing, analyzing, interpreting, and presenting data. It is important because it helps in decision-making, identifying trends, making predictions, and solving real-world problems across various fields like healthcare, business, social sciences, and engineering.\n",
        "\n",
        "## 2. What are the two main types of statistics?\n",
        "- **Descriptive Statistics**: Summarizes and describes the main features of a dataset.\n",
        "- **Inferential Statistics**: Draws conclusions and makes predictions based on a sample of data.\n",
        "\n",
        "## 3. What are descriptive statistics?\n",
        "Descriptive statistics involve summarizing and organizing data using numerical and graphical methods. Common measures include mean, median, mode, range, variance, and standard deviation.\n",
        "\n",
        "## 4. What is inferential statistics?\n",
        "Inferential statistics use sample data to make generalizations, predictions, or inferences about a larger population. Techniques include hypothesis testing, confidence intervals, and regression analysis.\n",
        "\n",
        "## 5. What is sampling in statistics?\n",
        "Sampling is the process of selecting a subset of individuals or data points from a larger population to analyze and draw conclusions about the entire group.\n",
        "\n",
        "## 6. What are the different types of sampling methods?\n",
        "- **Random Sampling**: Every member of the population has an equal chance of being selected.\n",
        "- **Systematic Sampling**: Selecting every nth member from a list.\n",
        "- **Stratified Sampling**: Dividing the population into subgroups and sampling from each.\n",
        "- **Cluster Sampling**: Dividing the population into clusters and randomly selecting entire clusters.\n",
        "- **Convenience Sampling**: Using data that is easy to access.\n",
        "\n",
        "## 7. What is the difference between random and non-random sampling?\n",
        "- **Random Sampling**: Each member has an equal chance of being chosen, reducing bias.\n",
        "- **Non-Random Sampling**: Selection is based on convenience or specific criteria, which may introduce bias.\n",
        "\n",
        "## 8. Define and give examples of qualitative and quantitative data.\n",
        "- **Qualitative Data**: Non-numeric data representing categories (e.g., colors, gender, or opinions).\n",
        "- **Quantitative Data**: Numeric data representing measurable quantities (e.g., age, height, or test scores).\n",
        "\n",
        "## 9. What are the different types of data in statistics?\n",
        "- **Nominal**: Categories without order (e.g., gender, nationality).\n",
        "- **Ordinal**: Categories with a meaningful order (e.g., rankings, satisfaction levels).\n",
        "- **Interval**: Numeric data without a true zero (e.g., temperature in Celsius).\n",
        "- **Ratio**: Numeric data with a true zero (e.g., weight, height).\n",
        "\n",
        "## 10. Explain nominal, ordinal, interval, and ratio levels of measurement.\n",
        "- **Nominal**: Categorical, no specific order (e.g., blood type).\n",
        "- **Ordinal**: Categorical, ordered (e.g., education levels).\n",
        "- **Interval**: Numeric, ordered, no true zero (e.g., IQ scores).\n",
        "- **Ratio**: Numeric, ordered, true zero (e.g., income).\n",
        "\n",
        "## 11. What is the measure of central tendency?\n",
        "It represents a central or typical value in a dataset. The main measures are mean, median, and mode.\n",
        "\n",
        "## 12. Define mean, median, and mode.\n",
        "- **Mean**: The arithmetic average of all data points.\n",
        "- **Median**: The middle value when data is arranged in order.\n",
        "- **Mode**: The value that appears most frequently.\n",
        "\n",
        "## 13. What is the significance of the measure of central tendency?\n",
        "It provides a summary of the dataset, helping to understand its general behavior and compare different datasets.\n",
        "\n",
        "## 14. What is variance, and how is it calculated?\n",
        "Variance measures the spread of data points from the mean. It is calculated using the formula:\n",
        "\n",
        "\\[ \\sigma^2 = \\frac{\\sum (x - \\mu)^2}{n} \\]\n",
        "\n",
        "Where \\( x \\) is each data point, \\( \\mu \\) is the mean, and \\( n \\) is the number of data points.\n",
        "\n",
        "## 15. What is standard deviation, and why is it important?\n",
        "Standard deviation is the square root of variance. It indicates how much data deviates from the mean, providing insight into data variability.\n",
        "\n",
        "## 16. Define and explain the term range in statistics.\n",
        "Range is the difference between the highest and lowest values in a dataset. It represents data dispersion but is sensitive to outliers.\n",
        "\n",
        "## 17. What is the difference between variance and standard deviation?\n",
        "- **Variance**: The average squared difference from the mean.\n",
        "- **Standard Deviation**: The square root of variance, providing a more interpretable measure of spread.\n",
        "\n",
        "## 18. What is skewness in a dataset?\n",
        "Skewness describes the asymmetry of data distribution.\n",
        "\n",
        "- **Positive skew**: Tail extends to the right.\n",
        "- **Negative skew**: Tail extends to the left.\n",
        "\n",
        "## 19. What does it mean if a dataset is positively or negatively skewed?\n",
        "- **Positively Skewed**: Mean > Median (right tail is longer).\n",
        "- **Negatively Skewed**: Mean < Median (left tail is longer).\n",
        "\n",
        "## 20. Define and explain kurtosis.\n",
        "Kurtosis measures the \"tailedness\" of a distribution.\n",
        "\n",
        "- **High kurtosis**: Heavy tails (more outliers).\n",
        "- **Low kurtosis**: Light tails (fewer outliers).\n",
        "\n",
        "## 21. What is the purpose of covariance?\n",
        "Covariance indicates how two variables change together. Positive covariance means they move in the same direction; negative covariance means opposite directions.\n",
        "\n",
        "## 22. What does correlation measure in statistics?\n",
        "Correlation measures the strength and direction of a linear relationship between two variables, typically ranging from -1 to +1.\n",
        "\n",
        "## 23. What is the difference between covariance and correlation?\n",
        "- **Covariance**: Measures how two variables move together but lacks a standard scale.\n",
        "- **Correlation**: Standardizes this relationship, making it easier to interpret.\n",
        "\n",
        "## 24. What are some real-world applications of statistics?\n",
        "- **Healthcare**: Analyzing patient data to improve treatment.\n",
        "- **Business**: Market research and consumer behavior analysis.\n",
        "- **Sports**: Performance evaluation and strategy development.\n",
        "- **Education**: Analyzing student outcomes for better policy-making.\n",
        "- **Government**: Census data analysis for public policy decisions.\n"
      ]
    },
    {
      "cell_type": "markdown",
      "source": [
        "## **Practical Questions**"
      ],
      "metadata": {
        "id": "_AXoFZ7rWpWy"
      },
      "id": "_AXoFZ7rWpWy"
    },
    {
      "cell_type": "markdown",
      "source": [
        "1. How do you calculate the mean, median, and mode of a dataset?"
      ],
      "metadata": {
        "id": "KntwlbIS_Mnl"
      },
      "id": "KntwlbIS_Mnl"
    },
    {
      "cell_type": "code",
      "source": [
        "import numpy as np\n",
        "from scipy import stats\n",
        "\n",
        "data = [12, 15, 14, 10, 15, 10, 10]\n",
        "\n",
        "mean = np.mean(data)  # Mean\n",
        "median = np.median(data)  # Median\n",
        "mode = stats.mode(data)  # Mode\n",
        "\n",
        "print(\"Mean:\", mean)\n",
        "print(\"Median:\", median)\n",
        "print(\"Mode:\", mode)\n"
      ],
      "metadata": {
        "colab": {
          "base_uri": "https://localhost:8080/"
        },
        "id": "kvPeo3ub_UbO",
        "outputId": "3f79c400-f8a4-4dfc-aad6-e31bac0927d6"
      },
      "id": "kvPeo3ub_UbO",
      "execution_count": 2,
      "outputs": [
        {
          "output_type": "stream",
          "name": "stdout",
          "text": [
            "Mean: 12.285714285714286\n",
            "Median: 12.0\n",
            "Mode: ModeResult(mode=np.int64(10), count=np.int64(3))\n"
          ]
        }
      ]
    },
    {
      "cell_type": "markdown",
      "source": [
        "2. Python Program to Compute Variance and Standard Deviation"
      ],
      "metadata": {
        "id": "IDP65X-S_kaQ"
      },
      "id": "IDP65X-S_kaQ"
    },
    {
      "cell_type": "code",
      "source": [
        "import numpy as np\n",
        "\n",
        "data = [12, 15, 14, 10, 15, 10, 10]\n",
        "\n",
        "variance = np.var(data)  # Variance\n",
        "std_dev = np.std(data)  # Standard Deviation\n",
        "\n",
        "print(\"Variance:\", variance)\n",
        "print(\"Standard Deviation:\", std_dev)\n"
      ],
      "metadata": {
        "colab": {
          "base_uri": "https://localhost:8080/"
        },
        "id": "qWw8RuCE_WMb",
        "outputId": "2f8d7f2b-2b91-46a6-83b3-bf34ce4f8e5a"
      },
      "id": "qWw8RuCE_WMb",
      "execution_count": 4,
      "outputs": [
        {
          "output_type": "stream",
          "name": "stdout",
          "text": [
            "Variance: 4.775510204081632\n",
            "Standard Deviation: 2.1852940772540506\n"
          ]
        }
      ]
    },
    {
      "cell_type": "markdown",
      "source": [
        "3. Create a Dataset and Classify It\n"
      ],
      "metadata": {
        "id": "2jKw6edl_npJ"
      },
      "id": "2jKw6edl_npJ"
    },
    {
      "cell_type": "markdown",
      "source": [
        "4. Implement Random and Stratified Sampling"
      ],
      "metadata": {
        "id": "jCccLQo3UE02"
      },
      "id": "jCccLQo3UE02"
    },
    {
      "cell_type": "code",
      "source": [
        "import numpy as np\n",
        "from sklearn.model_selection import train_test_split\n",
        "\n",
        "data = np.arange(1, 101)\n",
        "\n",
        "# Random Sampling\n",
        "random_sample = np.random.choice(data, 10, replace=False)\n",
        "print(\"Random Sample:\", random_sample)\n",
        "\n",
        "# Stratified Sampling\n",
        "from sklearn.model_selection import StratifiedShuffleSplit\n",
        "import pandas as pd\n",
        "\n",
        "df = pd.DataFrame({'Value': data, 'Category': np.repeat(['A', 'B'], 50)})\n",
        "sss = StratifiedShuffleSplit(n_splits=1, test_size=0.1)\n",
        "for train_index, test_index in sss.split(df, df['Category']):\n",
        "    stratified_sample = df.iloc[test_index]\n",
        "print(stratified_sample)\n"
      ],
      "metadata": {
        "colab": {
          "base_uri": "https://localhost:8080/"
        },
        "id": "EuYCMcEo_iGt",
        "outputId": "1955db14-4c04-47a5-a57b-f5113b45f31e"
      },
      "id": "EuYCMcEo_iGt",
      "execution_count": 1,
      "outputs": [
        {
          "output_type": "stream",
          "name": "stdout",
          "text": [
            "Random Sample: [78 54 67  9  1 76 17 14 57 88]\n",
            "    Value Category\n",
            "63     64        B\n",
            "71     72        B\n",
            "58     59        B\n",
            "20     21        A\n",
            "48     49        A\n",
            "29     30        A\n",
            "10     11        A\n",
            "2       3        A\n",
            "72     73        B\n",
            "76     77        B\n"
          ]
        }
      ]
    },
    {
      "cell_type": "markdown",
      "source": [
        "5. Python Function to Calculate Range"
      ],
      "metadata": {
        "id": "yX3raKwYUK8u"
      },
      "id": "yX3raKwYUK8u"
    },
    {
      "cell_type": "code",
      "source": [
        "def calculate_range(data):\n",
        "    return max(data) - min(data)\n",
        "\n",
        "data = [10, 20, 30, 40, 50]\n",
        "print(\"Range:\", calculate_range(data))\n"
      ],
      "metadata": {
        "colab": {
          "base_uri": "https://localhost:8080/"
        },
        "id": "qx0RKkrIUJqH",
        "outputId": "5508cc1b-6354-4510-82ea-db7787590365"
      },
      "id": "qx0RKkrIUJqH",
      "execution_count": 2,
      "outputs": [
        {
          "output_type": "stream",
          "name": "stdout",
          "text": [
            "Range: 40\n"
          ]
        }
      ]
    },
    {
      "cell_type": "markdown",
      "source": [
        "6. Plot a Histogram to Visualize Skewness"
      ],
      "metadata": {
        "id": "k_ItOe14UQt-"
      },
      "id": "k_ItOe14UQt-"
    },
    {
      "cell_type": "code",
      "source": [
        "import matplotlib.pyplot as plt\n",
        "\n",
        "data = [10, 20, 30, 40, 50, 100]\n",
        "\n",
        "plt.hist(data, bins=5, color='skyblue')\n",
        "plt.title(\"Histogram\")\n",
        "plt.show()\n"
      ],
      "metadata": {
        "colab": {
          "base_uri": "https://localhost:8080/",
          "height": 452
        },
        "id": "Wwma70aMUPrv",
        "outputId": "9779aedc-06b6-468c-b2c0-c7124a06f60e"
      },
      "id": "Wwma70aMUPrv",
      "execution_count": 3,
      "outputs": [
        {
          "output_type": "display_data",
          "data": {
            "text/plain": [
              "<Figure size 640x480 with 1 Axes>"
            ],
            "image/png": "[encoded data removed]"
          },
          "metadata": {}
        }
      ]
    },
    {
      "cell_type": "markdown",
      "source": [
        "7. Calculate Skewness and Kurtosis"
      ],
      "metadata": {
        "id": "63fMBMvwUVIO"
      },
      "id": "63fMBMvwUVIO"
    },
    {
      "cell_type": "code",
      "source": [
        "from scipy.stats import skew, kurtosis\n",
        "\n",
        "data = [10, 20, 30, 40, 50, 100]\n",
        "\n",
        "print(\"Skewness:\", skew(data))\n",
        "print(\"Kurtosis:\", kurtosis(data))\n"
      ],
      "metadata": {
        "colab": {
          "base_uri": "https://localhost:8080/"
        },
        "id": "QUjDgEOCUYTI",
        "outputId": "908faa6a-a5ab-42f5-cdd7-ee01a81c8e18"
      },
      "id": "QUjDgEOCUYTI",
      "execution_count": 4,
      "outputs": [
        {
          "output_type": "stream",
          "name": "stdout",
          "text": [
            "Skewness: 1.0513280892320205\n",
            "Kurtosis: -0.021349099704380592\n"
          ]
        }
      ]
    },
    {
      "cell_type": "markdown",
      "source": [
        "8. Demonstrate Positive and Negative Skewness"
      ],
      "metadata": {
        "id": "0sy07S0UUZqu"
      },
      "id": "0sy07S0UUZqu"
    },
    {
      "cell_type": "code",
      "source": [
        "import numpy as np\n",
        "import matplotlib.pyplot as plt\n",
        "\n",
        "# Positive Skewness\n",
        "pos_skew = np.random.exponential(scale=2, size=1000)\n",
        "\n",
        "# Negative Skewness\n",
        "neg_skew = np.random.exponential(scale=2, size=1000) * -1\n",
        "\n",
        "plt.hist(pos_skew, bins=30, alpha=0.7, label='Positive Skew')\n",
        "plt.hist(neg_skew, bins=30, alpha=0.7, label='Negative Skew')\n",
        "plt.legend()\n",
        "plt.show()\n"
      ],
      "metadata": {
        "colab": {
          "base_uri": "https://localhost:8080/",
          "height": 430
        },
        "id": "su9l1fcCUcvz",
        "outputId": "8b130c71-461b-4064-d062-be076228045d"
      },
      "id": "su9l1fcCUcvz",
      "execution_count": 5,
      "outputs": [
        {
          "output_type": "display_data",
          "data": {
            "text/plain": [
              "<Figure size 640x480 with 1 Axes>"
            ],
            "image/png": "[encoded data removed]"
          },
          "metadata": {}
        }
      ]
    },
    {
      "cell_type": "markdown",
      "source": [
        "9. Python Script to Calculate Covariance"
      ],
      "metadata": {
        "id": "Emjn-48IUexa"
      },
      "id": "Emjn-48IUexa"
    },
    {
      "cell_type": "code",
      "source": [
        "import numpy as np\n",
        "\n",
        "x = [1, 2, 3, 4, 5]\n",
        "y = [5, 4, 3, 2, 1]\n",
        "\n",
        "covariance = np.cov(x, y)[0, 1]\n",
        "print(\"Covariance:\", covariance)\n"
      ],
      "metadata": {
        "colab": {
          "base_uri": "https://localhost:8080/"
        },
        "id": "wFMQAJGjUeMG",
        "outputId": "a7fcfa98-81cc-4a6d-f576-9a09e66f9eb0"
      },
      "id": "wFMQAJGjUeMG",
      "execution_count": 6,
      "outputs": [
        {
          "output_type": "stream",
          "name": "stdout",
          "text": [
            "Covariance: -2.5\n"
          ]
        }
      ]
    },
    {
      "cell_type": "markdown",
      "source": [
        "10. Calculate Correlation Coefficient"
      ],
      "metadata": {
        "id": "vY7iRGyZUk_k"
      },
      "id": "vY7iRGyZUk_k"
    },
    {
      "cell_type": "code",
      "source": [
        "import numpy as np\n",
        "\n",
        "x = [1, 2, 3, 4, 5]\n",
        "y = [5, 4, 3, 2, 1]\n",
        "\n",
        "correlation = np.corrcoef(x, y)[0, 1]\n",
        "print(\"Correlation Coefficient:\", correlation)\n"
      ],
      "metadata": {
        "colab": {
          "base_uri": "https://localhost:8080/"
        },
        "id": "zHSFji8zUh3a",
        "outputId": "fa2e419a-f51f-4ae2-f399-a0834c1944b5"
      },
      "id": "zHSFji8zUh3a",
      "execution_count": 7,
      "outputs": [
        {
          "output_type": "stream",
          "name": "stdout",
          "text": [
            "Correlation Coefficient: -0.9999999999999999\n"
          ]
        }
      ]
    },
    {
      "cell_type": "markdown",
      "source": [
        "11. Create a Scatter Plot"
      ],
      "metadata": {
        "id": "3P-e_-SFUn7k"
      },
      "id": "3P-e_-SFUn7k"
    },
    {
      "cell_type": "code",
      "source": [
        "import matplotlib.pyplot as plt\n",
        "\n",
        "x = [1, 2, 3, 4, 5]\n",
        "y = [5, 4, 3, 2, 1]\n",
        "\n",
        "plt.scatter(x, y)\n",
        "plt.title(\"Scatter Plot\")\n",
        "plt.xlabel(\"X\")\n",
        "plt.ylabel(\"Y\")\n",
        "plt.show()\n"
      ],
      "metadata": {
        "colab": {
          "base_uri": "https://localhost:8080/",
          "height": 472
        },
        "id": "1S5eL6JaUm_N",
        "outputId": "faab4dfc-c897-4ed8-8823-6de81ec6fb1a"
      },
      "id": "1S5eL6JaUm_N",
      "execution_count": 8,
      "outputs": [
        {
          "output_type": "display_data",
          "data": {
            "text/plain": [
              "<Figure size 640x480 with 1 Axes>"
            ],
            "image/png": "[encoded data removed]"
          },
          "metadata": {}
        }
      ]
    },
    {
      "cell_type": "markdown",
      "source": [
        "12. Compare Random and Systematic Sampling"
      ],
      "metadata": {
        "id": "2M5IbLKaUse-"
      },
      "id": "2M5IbLKaUse-"
    },
    {
      "cell_type": "code",
      "source": [
        "import numpy as np\n",
        "\n",
        "data = np.arange(1, 101)\n",
        "\n",
        "# Simple Random Sampling\n",
        "random_sample = np.random.choice(data, 10, replace=False)\n",
        "\n",
        "# Systematic Sampling (every 10th value)\n",
        "systematic_sample = data[::10]\n",
        "\n",
        "print(\"Random Sample:\", random_sample)\n",
        "print(\"Systematic Sample:\", systematic_sample)\n"
      ],
      "metadata": {
        "colab": {
          "base_uri": "https://localhost:8080/"
        },
        "id": "uS7neVNkUrl9",
        "outputId": "429d1d59-fd2f-4efd-e817-af99cbb1cc2a"
      },
      "id": "uS7neVNkUrl9",
      "execution_count": 9,
      "outputs": [
        {
          "output_type": "stream",
          "name": "stdout",
          "text": [
            "Random Sample: [80  5 55 34 47 95 63 75 36 99]\n",
            "Systematic Sample: [ 1 11 21 31 41 51 61 71 81 91]\n"
          ]
        }
      ]
    },
    {
      "cell_type": "markdown",
      "source": [
        "13. Mean, Median, and Mode of Grouped Data"
      ],
      "metadata": {
        "id": "fuehrij4Uw5-"
      },
      "id": "fuehrij4Uw5-"
    },
    {
      "cell_type": "code",
      "source": [
        "import scipy.stats as stats\n",
        "\n",
        "data = [10, 20, 30, 40, 50, 60, 70]\n",
        "\n",
        "print(\"Mean:\", np.mean(data))\n",
        "print(\"Median:\", np.median(data))\n",
        "print(\"Mode:\", stats.mode(data))\n"
      ],
      "metadata": {
        "colab": {
          "base_uri": "https://localhost:8080/"
        },
        "id": "8SFeNG-lUwMa",
        "outputId": "c685381c-c852-4fd5-dd7d-65504e2d91b1"
      },
      "id": "8SFeNG-lUwMa",
      "execution_count": 11,
      "outputs": [
        {
          "output_type": "stream",
          "name": "stdout",
          "text": [
            "Mean: 40.0\n",
            "Median: 40.0\n",
            "Mode: ModeResult(mode=np.int64(10), count=np.int64(1))\n"
          ]
        }
      ]
    },
    {
      "cell_type": "markdown",
      "source": [
        "14. Simulate Data and Calculate Central Tendency"
      ],
      "metadata": {
        "id": "i9TlN6YlU6OQ"
      },
      "id": "i9TlN6YlU6OQ"
    },
    {
      "cell_type": "code",
      "source": [
        "import numpy as np\n",
        "\n",
        "data = np.random.randint(10, 100, size=50)\n",
        "\n",
        "print(\"Mean:\", np.mean(data))\n",
        "print(\"Median:\", np.median(data))\n",
        "print(\"Std Deviation:\", np.std(data))\n"
      ],
      "metadata": {
        "colab": {
          "base_uri": "https://localhost:8080/"
        },
        "id": "XZ7ba2DYU15J",
        "outputId": "05a48fab-a872-4ed4-9246-bf03728b79cb"
      },
      "id": "XZ7ba2DYU15J",
      "execution_count": 12,
      "outputs": [
        {
          "output_type": "stream",
          "name": "stdout",
          "text": [
            "Mean: 55.84\n",
            "Median: 57.0\n",
            "Std Deviation: 24.764781444624138\n"
          ]
        }
      ]
    },
    {
      "cell_type": "markdown",
      "source": [
        "15. Summarize Descriptive Statistics"
      ],
      "metadata": {
        "id": "Nzr3qYL5VAj1"
      },
      "id": "Nzr3qYL5VAj1"
    },
    {
      "cell_type": "code",
      "source": [
        "import pandas as pd\n",
        "\n",
        "data = pd.Series(np.random.randint(10, 100, 50))\n",
        "print(data.describe())\n"
      ],
      "metadata": {
        "colab": {
          "base_uri": "https://localhost:8080/"
        },
        "id": "O_2KLgMFU_n_",
        "outputId": "6081412b-187c-47c2-a2f3-a880257b9bb7"
      },
      "id": "O_2KLgMFU_n_",
      "execution_count": 13,
      "outputs": [
        {
          "output_type": "stream",
          "name": "stdout",
          "text": [
            "count    50.000000\n",
            "mean     52.580000\n",
            "std      27.717297\n",
            "min      12.000000\n",
            "25%      25.000000\n",
            "50%      51.500000\n",
            "75%      78.250000\n",
            "max      99.000000\n",
            "dtype: float64\n"
          ]
        }
      ]
    },
    {
      "cell_type": "markdown",
      "source": [
        "16. Plot a Boxplot"
      ],
      "metadata": {
        "id": "RnJVh80YVFs4"
      },
      "id": "RnJVh80YVFs4"
    },
    {
      "cell_type": "code",
      "source": [
        "import matplotlib.pyplot as plt\n",
        "\n",
        "data = [10, 20, 30, 40, 50, 100]\n",
        "\n",
        "plt.boxplot(data)\n",
        "plt.title(\"Boxplot\")\n",
        "plt.show()\n"
      ],
      "metadata": {
        "colab": {
          "base_uri": "https://localhost:8080/",
          "height": 452
        },
        "id": "mYueGHL8VD7j",
        "outputId": "e0d578b4-6290-4ad5-fdd6-8e228617ef30"
      },
      "id": "mYueGHL8VD7j",
      "execution_count": 14,
      "outputs": [
        {
          "output_type": "display_data",
          "data": {
            "text/plain": [
              "<Figure size 640x480 with 1 Axes>"
            ],
            "image/png": "[encoded data removed]"
          },
          "metadata": {}
        }
      ]
    },
    {
      "cell_type": "markdown",
      "source": [
        "17. Calculate Interquartile Range (IQR)"
      ],
      "metadata": {
        "id": "hhzuZkisVLXf"
      },
      "id": "hhzuZkisVLXf"
    },
    {
      "cell_type": "code",
      "source": [
        "import numpy as np\n",
        "\n",
        "data = np.random.randint(10, 100, 50)\n",
        "Q1 = np.percentile(data, 25)\n",
        "Q3 = np.percentile(data, 75)\n",
        "\n",
        "IQR = Q3 - Q1\n",
        "print(\"IQR:\", IQR)\n"
      ],
      "metadata": {
        "colab": {
          "base_uri": "https://localhost:8080/"
        },
        "id": "c5z6GzEBVJo0",
        "outputId": "70e6d923-7ac8-41c0-8f28-9b75ba52ad46"
      },
      "id": "c5z6GzEBVJo0",
      "execution_count": 15,
      "outputs": [
        {
          "output_type": "stream",
          "name": "stdout",
          "text": [
            "IQR: 50.75\n"
          ]
        }
      ]
    },
    {
      "cell_type": "markdown",
      "source": [
        "18. Z-score Normalization"
      ],
      "metadata": {
        "id": "CbYkIXA3VPCS"
      },
      "id": "CbYkIXA3VPCS"
    },
    {
      "cell_type": "code",
      "source": [
        "import numpy as np\n",
        "from scipy.stats import zscore\n",
        "\n",
        "data = [10, 20, 30, 40, 50]\n",
        "normalized_data = zscore(data)\n",
        "\n",
        "print(\"Z-score Normalized Data:\", normalized_data)\n"
      ],
      "metadata": {
        "colab": {
          "base_uri": "https://localhost:8080/"
        },
        "id": "jK9FQ_KzVOQT",
        "outputId": "4b9261bf-912c-4684-dd58-1100734ec186"
      },
      "id": "jK9FQ_KzVOQT",
      "execution_count": 16,
      "outputs": [
        {
          "output_type": "stream",
          "name": "stdout",
          "text": [
            "Z-score Normalized Data: [-1.41421356 -0.70710678  0.          0.70710678  1.41421356]\n"
          ]
        }
      ]
    },
    {
      "cell_type": "markdown",
      "source": [
        "19. Compare two datasets using their standard deviations"
      ],
      "metadata": {
        "id": "lofOOS7qVSin"
      },
      "id": "lofOOS7qVSin"
    },
    {
      "cell_type": "code",
      "source": [
        "import numpy as np\n",
        "\n",
        "data1 = [10, 20, 30, 40, 50]\n",
        "data2 = [5, 15, 25, 35, 45]\n",
        "\n",
        "std_dev1 = np.std(data1)\n",
        "std_dev2 = np.std(data2)\n",
        "\n",
        "print(\"Standard Deviation of Dataset 1:\", std_dev1)\n",
        "print(\"Standard Deviation of Dataset 2:\", std_dev2)\n",
        "\n",
        "if std_dev1 > std_dev2:\n",
        "    print(\"Dataset 1 has higher variability.\")\n",
        "else:\n",
        "    print(\"Dataset 2 has higher variability.\")"
      ],
      "metadata": {
        "colab": {
          "base_uri": "https://localhost:8080/"
        },
        "id": "I4xAGy3fVR3F",
        "outputId": "d7c83c8b-3784-40b5-a9ff-0774ad2db338"
      },
      "id": "I4xAGy3fVR3F",
      "execution_count": 21,
      "outputs": [
        {
          "output_type": "stream",
          "name": "stdout",
          "text": [
            "Standard Deviation of Dataset 1: 14.142135623730951\n",
            "Standard Deviation of Dataset 2: 14.142135623730951\n",
            "Dataset 2 has higher variability.\n"
          ]
        }
      ]
    },
    {
      "cell_type": "markdown",
      "source": [
        "20. Visualize covariance using a heatmap"
      ],
      "metadata": {
        "id": "5FhxXifeVZac"
      },
      "id": "5FhxXifeVZac"
    },
    {
      "cell_type": "code",
      "source": [
        "import seaborn as sns\n",
        "import matplotlib.pyplot as plt\n",
        "\n",
        "data = np.random.rand(10, 2)\n",
        "sns.heatmap(np.cov(data.T), annot=True)\n",
        "plt.title(\"Covariance Heatmap\")\n",
        "plt.show()\n"
      ],
      "metadata": {
        "colab": {
          "base_uri": "https://localhost:8080/",
          "height": 452
        },
        "id": "zYloWxHBVXts",
        "outputId": "0b374db5-c023-472f-dab9-6710c1486133"
      },
      "id": "zYloWxHBVXts",
      "execution_count": 22,
      "outputs": [
        {
          "output_type": "display_data",
          "data": {
            "text/plain": [
              "<Figure size 640x480 with 2 Axes>"
            ],
            "image/png": "[encoded data removed]"
          },
          "metadata": {}
        }
      ]
    },
    {
      "cell_type": "markdown",
      "source": [
        "21. Use seaborn to create a correlation matrix for a dataset"
      ],
      "metadata": {
        "id": "KfRSGkSHVdcq"
      },
      "id": "KfRSGkSHVdcq"
    },
    {
      "cell_type": "code",
      "source": [
        "import pandas as pd\n",
        "\n",
        "df = pd.DataFrame(np.random.rand(10, 3), columns=['A', 'B', 'C'])\n",
        "sns.heatmap(df.corr(), annot=True, cmap=\"coolwarm\")\n",
        "plt.title(\"Correlation Matrix\")\n",
        "plt.show()"
      ],
      "metadata": {
        "colab": {
          "base_uri": "https://localhost:8080/",
          "height": 452
        },
        "id": "nrw0rpiHVcvz",
        "outputId": "05bee225-e85e-4d36-876f-aab2a8cc7ebe"
      },
      "id": "nrw0rpiHVcvz",
      "execution_count": 23,
      "outputs": [
        {
          "output_type": "display_data",
          "data": {
            "text/plain": [
              "<Figure size 640x480 with 2 Axes>"
            ],
            "image/png": "[encoded data removed]"
          },
          "metadata": {}
        }
      ]
    },
    {
      "cell_type": "markdown",
      "source": [
        "22.  Generate a dataset and implement both variance and standard deviation computations"
      ],
      "metadata": {
        "id": "HFzNfzeqWOJf"
      },
      "id": "HFzNfzeqWOJf"
    },
    {
      "cell_type": "code",
      "source": [
        "data = np.random.randint(1, 100, 50)\n",
        "\n",
        "variance = np.var(data)\n",
        "std_dev = np.std(data)\n",
        "\n",
        "print(\"Generated Dataset:\", data)\n",
        "print(\"Variance:\", variance)\n",
        "print(\"Standard Deviation:\", std_dev)"
      ],
      "metadata": {
        "colab": {
          "base_uri": "https://localhost:8080/"
        },
        "id": "Ghtzx_mfVgn3",
        "outputId": "e2122ad0-7120-43b0-c83e-b9e8783ea639"
      },
      "id": "Ghtzx_mfVgn3",
      "execution_count": 24,
      "outputs": [
        {
          "output_type": "stream",
          "name": "stdout",
          "text": [
            "Generated Dataset: [80 39 99 42 79 14 43 79 88 89 28 93 99 71 75 94 77  9 47 76 29 10 28 28\n",
            " 23 35 61 81  5 30 76 63 71 90 24 97 90 45 89 89  5 28 31 12 19 47 75 62\n",
            " 22 36]\n",
            "Variance: 885.2864000000002\n",
            "Standard Deviation: 29.753762787250963\n"
          ]
        }
      ]
    },
    {
      "cell_type": "markdown",
      "source": [
        "23. Visualize skewness and kurtosis using matplotlib or seaborn"
      ],
      "metadata": {
        "id": "wa7120e-WV0g"
      },
      "id": "wa7120e-WV0g"
    },
    {
      "cell_type": "code",
      "source": [
        "from scipy.stats import skew, kurtosis\n",
        "\n",
        "data = np.random.normal(0, 1, 1000)\n",
        "\n",
        "plt.hist(data, bins=30, color='skyblue', edgecolor='black')\n",
        "plt.title(\"Skewness and Kurtosis Visualization\")\n",
        "plt.show()\n",
        "\n",
        "print(\"Skewness:\", skew(data))\n",
        "print(\"Kurtosis:\", kurtosis(data))\n"
      ],
      "metadata": {
        "colab": {
          "base_uri": "https://localhost:8080/",
          "height": 487
        },
        "id": "kscTkxccWVIN",
        "outputId": "ffa113e0-0a8b-4923-b30f-6102e80614c2"
      },
      "id": "kscTkxccWVIN",
      "execution_count": 26,
      "outputs": [
        {
          "output_type": "display_data",
          "data": {
            "text/plain": [
              "<Figure size 640x480 with 1 Axes>"
            ],
            "image/png": "[encoded data removed]"
          },
          "metadata": {}
        },
        {
          "output_type": "stream",
          "name": "stdout",
          "text": [
            "Skewness: -0.003514030294179919\n",
            "Kurtosis: 0.07566105117002753\n"
          ]
        }
      ]
    },
    {
      "cell_type": "markdown",
      "source": [
        "24. Implement the Pearson and Spearman correlation coefficients for a dataset"
      ],
      "metadata": {
        "id": "b2vYpj5tWeLA"
      },
      "id": "b2vYpj5tWeLA"
    },
    {
      "cell_type": "code",
      "source": [
        "from scipy.stats import pearsonr, spearmanr\n",
        "\n",
        "x = [1, 2, 3, 4, 5]\n",
        "y = [5, 4, 3, 2, 1]\n",
        "\n",
        "pearson_corr, _ = pearsonr(x, y)\n",
        "spearman_corr, _ = spearmanr(x, y)\n",
        "\n",
        "print(\"Pearson Correlation:\", pearson_corr)\n",
        "print(\"Spearman Correlation:\", spearman_corr)"
      ],
      "metadata": {
        "colab": {
          "base_uri": "https://localhost:8080/"
        },
        "id": "lU_1HAVzWckE",
        "outputId": "4912428d-cce5-4a6c-a1da-b50a94bd1581"
      },
      "id": "lU_1HAVzWckE",
      "execution_count": 27,
      "outputs": [
        {
          "output_type": "stream",
          "name": "stdout",
          "text": [
            "Pearson Correlation: -1.0\n",
            "Spearman Correlation: -0.9999999999999999\n"
          ]
        }
      ]
    },
    {
      "cell_type": "code",
      "source": [],
      "metadata": {
        "id": "rAYzDx7sWmcY"
      },
      "id": "rAYzDx7sWmcY",
      "execution_count": null,
      "outputs": []
    }
  ],
  "metadata": {
    "colab": {
      "provenance": []
    },
    "language_info": {
      "name": "python"
    },
    "kernelspec": {
      "name": "python3",
      "display_name": "Python 3"
    }
  },
  "nbformat": 4,
  "nbformat_minor": 5
}