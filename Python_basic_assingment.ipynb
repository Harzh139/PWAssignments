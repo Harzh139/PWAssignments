{
  "nbformat": 4,
  "nbformat_minor": 0,
  "metadata": {
    "colab": {
      "provenance": []
    },
    "kernelspec": {
      "name": "python3",
      "display_name": "Python 3"
    },
    "language_info": {
      "name": "python"
    }
  },
  "cells": [
    {
      "cell_type": "markdown",
      "source": [
        "#**Theory Questions:**\n"
      ],
      "metadata": {
        "id": "iKqxJVDvEpjU"
      }
    },
    {
      "cell_type": "markdown",
      "source": [
        "1. What is Python, and why is it popular?\n"
      ],
      "metadata": {
        "id": "m82OMstqEufe"
      }
    },
    {
      "cell_type": "markdown",
      "source": [
        "Python is a high-level, interpreted programming language known for its simplicity and readability. It is popular due to its easy syntax, vast libraries, and applications in web development, data science, automation, AI, and more."
      ],
      "metadata": {
        "id": "neYK1MpFE0Te"
      }
    },
    {
      "cell_type": "markdown",
      "source": [
        "2. What is an interpreter in Python?"
      ],
      "metadata": {
        "id": "RF5Sw3b_x7yL"
      }
    },
    {
      "cell_type": "markdown",
      "source": [
        "An interpreter executes Python code line by line, converting it into machine-readable instructions.\n"
      ],
      "metadata": {
        "id": "y2_hswrhyDZL"
      }
    },
    {
      "cell_type": "markdown",
      "source": [
        "3. What are pre-defined keywords in Python?"
      ],
      "metadata": {
        "id": "Hl5_e0atyGP7"
      }
    },
    {
      "cell_type": "markdown",
      "source": [
        "Pre-defined keywords are reserved words in Python that have special meanings, such as if, else, while, def, and return."
      ],
      "metadata": {
        "id": "1lsuqhho6kGn"
      }
    },
    {
      "cell_type": "markdown",
      "source": [
        "4. Can keywords be used as variable names?"
      ],
      "metadata": {
        "id": "qgn5C0Hi6dzN"
      }
    },
    {
      "cell_type": "markdown",
      "source": [
        "No, keywords cannot be used as variable names because they have predefined functions."
      ],
      "metadata": {
        "id": "cngOwVD46rLY"
      }
    },
    {
      "cell_type": "markdown",
      "source": [
        "5. What is mutability in Python?"
      ],
      "metadata": {
        "id": "7nHwfwTK6erB"
      }
    },
    {
      "cell_type": "markdown",
      "source": [
        "Mutability refers to whether an object can be changed after its creation. Mutable objects (like lists) can be modified, while immutable objects (like tuples) cannot."
      ],
      "metadata": {
        "id": "rBAXkDwq6v2L"
      }
    },
    {
      "cell_type": "markdown",
      "source": [
        "6. Why are lists mutable, but tuples are immutable?"
      ],
      "metadata": {
        "id": "1R3iptio6f5O"
      }
    },
    {
      "cell_type": "markdown",
      "source": [
        "Lists allow modification, adding, or removing elements, whereas tuples are designed for fixed collections of data and do not support modifications after creation."
      ],
      "metadata": {
        "id": "sQdEh4Bb62MN"
      }
    },
    {
      "cell_type": "markdown",
      "source": [
        "7. What is the difference between == and is operators in Python?"
      ],
      "metadata": {
        "id": "bIGFrqbR64PL"
      }
    },
    {
      "cell_type": "markdown",
      "source": [
        "\"==\" checks for value equality, while \"is\" checks for object identity.\n"
      ],
      "metadata": {
        "id": "Y36O4pv17A27"
      }
    },
    {
      "cell_type": "markdown",
      "source": [
        "8. What are logical operators in Python?"
      ],
      "metadata": {
        "id": "Q-vP-IIE65mS"
      }
    },
    {
      "cell_type": "markdown",
      "source": [
        "Logical operators include and, or, and not, which are used to combine conditional statements."
      ],
      "metadata": {
        "id": "mu0Dj1Ge7KU-"
      }
    },
    {
      "cell_type": "markdown",
      "source": [
        "9. What is type casting in Python?"
      ],
      "metadata": {
        "id": "VHHYXntD66Rl"
      }
    },
    {
      "cell_type": "markdown",
      "source": [
        "Type casting is converting one data type to another, like int(\"10\") converting a string to an integer."
      ],
      "metadata": {
        "id": "HVK_QF5y7OtF"
      }
    },
    {
      "cell_type": "markdown",
      "source": [
        "10. What is the difference between implicit and explicit type casting?"
      ],
      "metadata": {
        "id": "Mc0WXCJt661o"
      }
    },
    {
      "cell_type": "markdown",
      "source": [
        "Implicit type casting happens automatically (e.g., int to float in calculations), while explicit type casting is manually done using functions like int(), float(), or str()."
      ],
      "metadata": {
        "id": "xpxk2zMz7TOF"
      }
    },
    {
      "cell_type": "markdown",
      "source": [
        "11. What is the purpose of conditional statements in Python?"
      ],
      "metadata": {
        "id": "6eQV02Hp67f0"
      }
    },
    {
      "cell_type": "markdown",
      "source": [
        "Conditional statements (if, elif, else) control program flow based on conditions."
      ],
      "metadata": {
        "id": "5U8FJSvP7Xp9"
      }
    },
    {
      "cell_type": "markdown",
      "source": [
        "12. How does the elif statement work?"
      ],
      "metadata": {
        "id": "jx8XxwW968MQ"
      }
    },
    {
      "cell_type": "markdown",
      "source": [
        "The elif (else if) statement checks additional conditions if the previous if condition is false."
      ],
      "metadata": {
        "id": "sTOaV16J7b_2"
      }
    },
    {
      "cell_type": "markdown",
      "source": [
        "13. What is the difference between for and while loops?"
      ],
      "metadata": {
        "id": "f8DFGjlJ68yU"
      }
    },
    {
      "cell_type": "markdown",
      "source": [
        "for loops iterate over a sequence (list, tuple, range), whereas while loops continue execution until a condition becomes false."
      ],
      "metadata": {
        "id": "6K1LSxF47gBb"
      }
    },
    {
      "cell_type": "markdown",
      "source": [
        "14. Describe a scenario where a while loop is more suitable than a for loop."
      ],
      "metadata": {
        "id": "dszUgNpm69b-"
      }
    },
    {
      "cell_type": "markdown",
      "source": [
        "A while loop is better when the number of iterations is unknown, like waiting for user input until they enter a valid value."
      ],
      "metadata": {
        "id": "85lfxUxY7kK8"
      }
    },
    {
      "cell_type": "markdown",
      "source": [
        "#**Practical Questions:**"
      ],
      "metadata": {
        "id": "OE6VRJXc7p67"
      }
    },
    {
      "cell_type": "markdown",
      "source": [
        "1. Write a Python program to print \"Hello, World!\""
      ],
      "metadata": {
        "id": "HoCiu1177vLx"
      }
    },
    {
      "cell_type": "code",
      "source": [
        "print(\"Hello, World!\")\n"
      ],
      "metadata": {
        "colab": {
          "base_uri": "https://localhost:8080/"
        },
        "id": "YR8tvwBX70yf",
        "outputId": "ad4287e1-c179-4ae1-89f2-185ed2ee8721"
      },
      "execution_count": 1,
      "outputs": [
        {
          "output_type": "stream",
          "name": "stdout",
          "text": [
            "Hello, World!\n"
          ]
        }
      ]
    },
    {
      "cell_type": "markdown",
      "source": [
        "2. Write a Python program that displays your name and age."
      ],
      "metadata": {
        "id": "W77hsdL373dG"
      }
    },
    {
      "cell_type": "code",
      "source": [
        "name = \"Harsh\"\n",
        "age = 22\n",
        "print(f\"My name is {name} and I am {age} years old.\")\n"
      ],
      "metadata": {
        "colab": {
          "base_uri": "https://localhost:8080/"
        },
        "id": "-RRx6T-u71_Z",
        "outputId": "3bc2a013-67d2-49d9-eb79-eec615c1d5e9"
      },
      "execution_count": 2,
      "outputs": [
        {
          "output_type": "stream",
          "name": "stdout",
          "text": [
            "My name is Harsh and I am 22 years old.\n"
          ]
        }
      ]
    },
    {
      "cell_type": "markdown",
      "source": [
        "3. Write code to print all the pre-defined keywords in Python using the keyword library."
      ],
      "metadata": {
        "id": "xwtvefGC7-Mm"
      }
    },
    {
      "cell_type": "code",
      "source": [
        "import keyword\n",
        "print(keyword.kwlist)\n"
      ],
      "metadata": {
        "colab": {
          "base_uri": "https://localhost:8080/"
        },
        "id": "PD8q9qmd79Gj",
        "outputId": "aac66d06-272d-46c2-b0d5-54c0eea9019c"
      },
      "execution_count": 3,
      "outputs": [
        {
          "output_type": "stream",
          "name": "stdout",
          "text": [
            "['False', 'None', 'True', 'and', 'as', 'assert', 'async', 'await', 'break', 'class', 'continue', 'def', 'del', 'elif', 'else', 'except', 'finally', 'for', 'from', 'global', 'if', 'import', 'in', 'is', 'lambda', 'nonlocal', 'not', 'or', 'pass', 'raise', 'return', 'try', 'while', 'with', 'yield']\n"
          ]
        }
      ]
    },
    {
      "cell_type": "markdown",
      "source": [
        "4. Write a program that checks if a given word is a Python keyword."
      ],
      "metadata": {
        "id": "4-Nz0Zo38FSr"
      }
    },
    {
      "cell_type": "code",
      "source": [
        "import keyword\n",
        "word = input(\"Enter a word: \")\n",
        "print(f\"{word} is a keyword: {keyword.iskeyword(word)}\")\n"
      ],
      "metadata": {
        "colab": {
          "base_uri": "https://localhost:8080/"
        },
        "id": "NyxgWq3U8ClC",
        "outputId": "3d34a587-162f-4187-ee8a-0ca0d135d4b5"
      },
      "execution_count": 4,
      "outputs": [
        {
          "output_type": "stream",
          "name": "stdout",
          "text": [
            "Enter a word: if\n",
            "if is a keyword: True\n"
          ]
        }
      ]
    },
    {
      "cell_type": "markdown",
      "source": [
        "5. Write a function to demonstrate the behavior of mutable and immutable arguments."
      ],
      "metadata": {
        "id": "o43uv7PH8RRN"
      }
    },
    {
      "cell_type": "code",
      "source": [
        "def modify_data(a_list, a_tuple):\n",
        "    a_list.append(4)  # Modifying list (mutable)\n",
        "    a_tuple += (4,)   # Creating a new tuple (immutable)\n",
        "    print(\"Inside function:\", a_list, a_tuple)\n",
        "\n",
        "my_list = [1, 2, 3]\n",
        "my_tuple = (1, 2, 3)\n",
        "modify_data(my_list, my_tuple)\n",
        "print(\"Outside function:\", my_list, my_tuple)\n"
      ],
      "metadata": {
        "colab": {
          "base_uri": "https://localhost:8080/"
        },
        "id": "xVJqW4uK8OPF",
        "outputId": "16636a04-1171-45bc-fbab-acc3600ba60e"
      },
      "execution_count": 5,
      "outputs": [
        {
          "output_type": "stream",
          "name": "stdout",
          "text": [
            "Inside function: [1, 2, 3, 4] (1, 2, 3, 4)\n",
            "Outside function: [1, 2, 3, 4] (1, 2, 3)\n"
          ]
        }
      ]
    },
    {
      "cell_type": "markdown",
      "source": [
        "6. Write a program that performs basic arithmetic operations on two user-input numbers."
      ],
      "metadata": {
        "id": "541s5KIk8WcJ"
      }
    },
    {
      "cell_type": "code",
      "source": [
        "a = float(input(\"Enter first number: \"))\n",
        "b = float(input(\"Enter second number: \"))\n",
        "print(f\"Sum: {a + b}, Difference: {a - b}, Product: {a * b}, Division: {a / b}\")\n"
      ],
      "metadata": {
        "colab": {
          "base_uri": "https://localhost:8080/"
        },
        "id": "uRxKw2CH8VYP",
        "outputId": "667fb611-974d-46f9-96b6-dffef32109e4"
      },
      "execution_count": 6,
      "outputs": [
        {
          "output_type": "stream",
          "name": "stdout",
          "text": [
            "Enter first number: 20\n",
            "Enter second number: 21\n",
            "Sum: 41.0, Difference: -1.0, Product: 420.0, Division: 0.9523809523809523\n"
          ]
        }
      ]
    },
    {
      "cell_type": "markdown",
      "source": [
        "7. Write a program to demonstrate the use of logical operators."
      ],
      "metadata": {
        "id": "WU4BQcCS8izO"
      }
    },
    {
      "cell_type": "code",
      "source": [
        "x = True\n",
        "y = False\n",
        "print(x and y, x or y, not x)\n"
      ],
      "metadata": {
        "colab": {
          "base_uri": "https://localhost:8080/"
        },
        "id": "elkQD6MR8bxD",
        "outputId": "3b3e5bc7-6d57-4ece-b9f9-ccf27f19ce19"
      },
      "execution_count": 7,
      "outputs": [
        {
          "output_type": "stream",
          "name": "stdout",
          "text": [
            "False True False\n"
          ]
        }
      ]
    },
    {
      "cell_type": "markdown",
      "source": [
        "8. Create a list and tuple in Python, and demonstrate how attempting to change an element works differently."
      ],
      "metadata": {
        "id": "49LASlnS8peD"
      }
    },
    {
      "cell_type": "code",
      "source": [
        "my_list = [1, 2, 3]\n",
        "my_tuple = (1, 2, 3)\n",
        "\n",
        "my_list[0] = 10  # Works fine\n",
        "print(my_list)\n",
        "\n",
        "my_tuple[0] = 10  # Raises an error\n"
      ],
      "metadata": {
        "colab": {
          "base_uri": "https://localhost:8080/",
          "height": 193
        },
        "id": "SAy97YMh8tSZ",
        "outputId": "e492361b-92fb-4d9b-b08d-eed1768ee89b"
      },
      "execution_count": 8,
      "outputs": [
        {
          "output_type": "stream",
          "name": "stdout",
          "text": [
            "[10, 2, 3]\n"
          ]
        },
        {
          "output_type": "error",
          "ename": "TypeError",
          "evalue": "'tuple' object does not support item assignment",
          "traceback": [
            "\u001b[0;31m---------------------------------------------------------------------------\u001b[0m",
            "\u001b[0;31mTypeError\u001b[0m                                 Traceback (most recent call last)",
            "\u001b[0;32m<ipython-input-8-6d47e692304c>\u001b[0m in \u001b[0;36m<cell line: 0>\u001b[0;34m()\u001b[0m\n\u001b[1;32m      5\u001b[0m \u001b[0mprint\u001b[0m\u001b[0;34m(\u001b[0m\u001b[0mmy_list\u001b[0m\u001b[0;34m)\u001b[0m\u001b[0;34m\u001b[0m\u001b[0;34m\u001b[0m\u001b[0m\n\u001b[1;32m      6\u001b[0m \u001b[0;34m\u001b[0m\u001b[0m\n\u001b[0;32m----> 7\u001b[0;31m \u001b[0mmy_tuple\u001b[0m\u001b[0;34m[\u001b[0m\u001b[0;36m0\u001b[0m\u001b[0;34m]\u001b[0m \u001b[0;34m=\u001b[0m \u001b[0;36m10\u001b[0m  \u001b[0;31m# Raises an error\u001b[0m\u001b[0;34m\u001b[0m\u001b[0;34m\u001b[0m\u001b[0m\n\u001b[0m",
            "\u001b[0;31mTypeError\u001b[0m: 'tuple' object does not support item assignment"
          ]
        }
      ]
    },
    {
      "cell_type": "markdown",
      "source": [
        "9. Write a Python program to convert user input from string to integer, float, and boolean types."
      ],
      "metadata": {
        "id": "d-GoRSWw81o9"
      }
    },
    {
      "cell_type": "code",
      "source": [
        "user_input = input(\"Enter a value: \")\n",
        "print(int(user_input), float(user_input), bool(user_input))\n"
      ],
      "metadata": {
        "colab": {
          "base_uri": "https://localhost:8080/"
        },
        "id": "qJVjpqlm8n-k",
        "outputId": "0a40d3eb-c6df-4dd0-8bb9-695346985be4"
      },
      "execution_count": 9,
      "outputs": [
        {
          "output_type": "stream",
          "name": "stdout",
          "text": [
            "Enter a value: 21\n",
            "21 21.0 True\n"
          ]
        }
      ]
    },
    {
      "cell_type": "markdown",
      "source": [
        "10. Write code to demonstrate type casting with list elements."
      ],
      "metadata": {
        "id": "P45H44k889qZ"
      }
    },
    {
      "cell_type": "code",
      "source": [
        "my_list = [\"1\", \"2\", \"3\"]\n",
        "int_list = list(map(int, my_list))\n",
        "print(int_list)\n"
      ],
      "metadata": {
        "colab": {
          "base_uri": "https://localhost:8080/"
        },
        "id": "FtSF0gsS865G",
        "outputId": "442ac7b8-1ba2-4fc7-d0db-fd1e8480311e"
      },
      "execution_count": 10,
      "outputs": [
        {
          "output_type": "stream",
          "name": "stdout",
          "text": [
            "[1, 2, 3]\n"
          ]
        }
      ]
    },
    {
      "cell_type": "markdown",
      "source": [
        "11. Write a program that checks if a number is positive, negative, or zero."
      ],
      "metadata": {
        "id": "tFn2fh649H1B"
      }
    },
    {
      "cell_type": "code",
      "source": [
        "num = int(input(\"Enter a number: \"))\n",
        "if num > 0:\n",
        "    print(\"Positive\")\n",
        "elif num < 0:\n",
        "    print(\"Negative\")\n",
        "else:\n",
        "    print(\"Zero\")\n"
      ],
      "metadata": {
        "colab": {
          "base_uri": "https://localhost:8080/"
        },
        "id": "1c5axgeh9Ni1",
        "outputId": "82d7e00c-27ef-4dcc-a289-5006a81f9fab"
      },
      "execution_count": 11,
      "outputs": [
        {
          "output_type": "stream",
          "name": "stdout",
          "text": [
            "Enter a number: 12\n",
            "Positive\n"
          ]
        }
      ]
    },
    {
      "cell_type": "markdown",
      "source": [
        "12. Write a for loop to print numbers from 1 to 10."
      ],
      "metadata": {
        "id": "_TblwrAm9USd"
      }
    },
    {
      "cell_type": "code",
      "source": [
        "for i in range(1, 11):\n",
        "    print(i)\n"
      ],
      "metadata": {
        "colab": {
          "base_uri": "https://localhost:8080/"
        },
        "id": "KnK_ZkNw9cl3",
        "outputId": "574e2328-6ad4-43ee-a97b-fa78a44a3f90"
      },
      "execution_count": 12,
      "outputs": [
        {
          "output_type": "stream",
          "name": "stdout",
          "text": [
            "1\n",
            "2\n",
            "3\n",
            "4\n",
            "5\n",
            "6\n",
            "7\n",
            "8\n",
            "9\n",
            "10\n"
          ]
        }
      ]
    },
    {
      "cell_type": "markdown",
      "source": [
        "13. Write a Python program to find the sum of all even numbers between 1 and 50."
      ],
      "metadata": {
        "id": "0tWTK3gb9fP1"
      }
    },
    {
      "cell_type": "code",
      "source": [
        "print(sum(i for i in range(1, 51) if i % 2 == 0))\n"
      ],
      "metadata": {
        "colab": {
          "base_uri": "https://localhost:8080/"
        },
        "id": "7MJC96A69iQ6",
        "outputId": "cd93c02d-9989-4dcd-926a-70cebdfc4a96"
      },
      "execution_count": 13,
      "outputs": [
        {
          "output_type": "stream",
          "name": "stdout",
          "text": [
            "650\n"
          ]
        }
      ]
    },
    {
      "cell_type": "markdown",
      "source": [
        "14. Write a program to reverse a string using a while loop."
      ],
      "metadata": {
        "id": "cgaTmUL99kJI"
      }
    },
    {
      "cell_type": "code",
      "source": [
        "s = input(\"Enter a string: \")\n",
        "reversed_s = \"\"\n",
        "i = len(s) - 1\n",
        "while i >= 0:\n",
        "    reversed_s += s[i]\n",
        "    i -= 1\n",
        "print(\"Reversed string:\", reversed_s)\n"
      ],
      "metadata": {
        "colab": {
          "base_uri": "https://localhost:8080/"
        },
        "id": "BBU6QFdC9oxo",
        "outputId": "6fda8350-30e1-4fa3-a948-baf0bb2d9b06"
      },
      "execution_count": 15,
      "outputs": [
        {
          "output_type": "stream",
          "name": "stdout",
          "text": [
            "Enter a string: harsh\n",
            "Reversed string: hsrah\n"
          ]
        }
      ]
    },
    {
      "cell_type": "markdown",
      "source": [
        "15. Write a Python program to calculate the factorial of a number using a while loop."
      ],
      "metadata": {
        "id": "g1Fg_CKF9pGh"
      }
    },
    {
      "cell_type": "code",
      "source": [
        "num = int(input(\"Enter a number: \"))\n",
        "fact = 1\n",
        "while num > 0:\n",
        "    fact *= num\n",
        "    num -= 1\n",
        "print(\"Factorial:\", fact)\n"
      ],
      "metadata": {
        "colab": {
          "base_uri": "https://localhost:8080/"
        },
        "id": "0PW4REum9uIG",
        "outputId": "f7dd7007-046f-4b09-dfcc-ba5ad2595226"
      },
      "execution_count": 14,
      "outputs": [
        {
          "output_type": "stream",
          "name": "stdout",
          "text": [
            "Enter a number: 12\n",
            "Factorial: 479001600\n"
          ]
        }
      ]
    }
  ]
}